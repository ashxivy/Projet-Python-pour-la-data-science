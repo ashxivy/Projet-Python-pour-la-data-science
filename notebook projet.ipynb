{
 "cells": [
  {
   "cell_type": "code",
   "execution_count": 1,
   "metadata": {},
   "outputs": [],
   "source": [
    "import numpy as np\n",
    "import pandas as pd\n",
    "import matplotlib.pyplot as plt\n",
    "import seaborn as sns"
   ]
  },
  {
   "cell_type": "code",
   "execution_count": 2,
   "metadata": {},
   "outputs": [
    {
     "name": "stderr",
     "output_type": "stream",
     "text": [
      "<>:2: SyntaxWarning: invalid escape sequence '\\o'\n",
      "<>:2: SyntaxWarning: invalid escape sequence '\\o'\n",
      "C:\\Users\\luneb\\AppData\\Local\\Temp\\ipykernel_25888\\997103595.py:2: SyntaxWarning: invalid escape sequence '\\o'\n",
      "  file_path = 'data\\openfoodfacts.csv'\n",
      "C:\\Users\\luneb\\AppData\\Local\\Temp\\ipykernel_25888\\997103595.py:4: DtypeWarning: Columns (0,9,15,21,22,23,24,25,29,30,31,32,33,42,43,44,48,50,51,54,65,70,148) have mixed types. Specify dtype option on import or set low_memory=False.\n",
      "  df = pd.read_csv(file_path, sep='\\t',low_memory=True)  # Assurez-vous de spécifier le bon séparateur s'il est différent de la virgule\n"
     ]
    }
   ],
   "source": [
    "# Charger le fichier CSV\n",
    "file_path = 'data\\openfoodfacts.csv'\n",
    "# Charger le fichier CSV dans un DataFrame pandas\n",
    "df = pd.read_csv(file_path, sep='\\t',low_memory=True)  # Assurez-vous de spécifier le bon séparateur s'il est différent de la virgule\n"
   ]
  },
  {
   "cell_type": "markdown",
   "metadata": {},
   "source": []
  },
  {
   "cell_type": "code",
   "execution_count": null,
   "metadata": {},
   "outputs": [],
   "source": [
    "# Afficher les premières lignes du DataFrame pour voir les données\n",
    "print(df.head())\n",
    "\n",
    "#On vérifie que la base est bien chargée\n",
    "\n",
    "df.sample(5)\n",
    "print (\"Le dataset compte {} lignes et {} variables\".format(df.shape[0], df.shape[1]))\n",
    "\n",
    "# Afficher les noms des colonnes du DataFrame\n",
    "print(df.columns)\n",
    "\n",
    "#on veut connaître les valeurs de la colonne countries_fr\n",
    "valeurs_uniques = df['countries_fr'].unique()\n",
    "print(valeurs_uniques)\n",
    "\n",
    "valeurs_uniques_tag = df['countries_tags'].unique()\n",
    "print(valeurs_uniques_tag)\n",
    "\n"
   ]
  }
 ],
 "metadata": {
  "kernelspec": {
   "display_name": "Python 3",
   "language": "python",
   "name": "python3"
  },
  "language_info": {
   "codemirror_mode": {
    "name": "ipython",
    "version": 3
   },
   "file_extension": ".py",
   "mimetype": "text/x-python",
   "name": "python",
   "nbconvert_exporter": "python",
   "pygments_lexer": "ipython3",
   "version": "3.12.0"
  }
 },
 "nbformat": 4,
 "nbformat_minor": 2
}
